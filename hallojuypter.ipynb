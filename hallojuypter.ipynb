{
 "metadata": {
  "language_info": {
   "codemirror_mode": {
    "name": "ipython",
    "version": 3
   },
   "file_extension": ".py",
   "mimetype": "text/x-python",
   "name": "python",
   "nbconvert_exporter": "python",
   "pygments_lexer": "ipython3",
   "version": 3
  },
  "orig_nbformat": 2
 },
 "nbformat": 4,
 "nbformat_minor": 2,
 "cells": [
  {
   "cell_type": "code",
   "execution_count": null,
   "metadata": {},
   "outputs": [],
   "source": [
    "print(\"hey im paul and im trying jupyter on Vs code :)\")\n",
    "\n"
   ]
  },
  {
   "source": [
    "$$\\frac{dms(t)}{dt} = csf*Fin - qs *cx*Vl$$\n",
    "\n",
    "$$\\frac{dmx(t)}{dt} =  µ *cx*Vl$$\n",
    "\n",
    "$$Fin = \\frac{dVl(t)}{dt}$$\n"
   ],
   "cell_type": "markdown",
   "metadata": {}
  },
  {
   "cell_type": "code",
   "execution_count": null,
   "metadata": {},
   "outputs": [],
   "source": [
    "print(\"Hi guthub whatsup\")\n",
    "\n",
    "x = \"yo\"\n",
    "\n",
    "y = \"hey\"\n",
    "\n",
    "x = \"mit vs gechanged aber mit bash geladen oO\""
   ]
  }
 ]
}